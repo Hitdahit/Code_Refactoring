{
 "cells": [
  {
   "cell_type": "markdown",
   "metadata": {},
   "source": [
    "python train.py --text=./experiments.txt --ver 2"
   ]
  },
  {
   "cell_type": "code",
   "execution_count": 33,
   "metadata": {},
   "outputs": [],
   "source": [
    "version=2   #보고 싶은 version\n",
    "path = './experiments.txt'\n",
    "\n",
    "# f.close 자동으로 해줌\n",
    "with open(path, 'r') as file:\n",
    "    # 모든 글자들을 하나의 문자열로 읽기\n",
    "    # a = file.read()\n",
    "    # 줄별로 리스팅\n",
    "    lines = file.readlines()\n",
    "\n",
    "versions = []   #versions에 version들 차곡차곡 쌓기\n",
    "for idx, i in enumerate(lines):\n",
    "    if 'ver' in i:\n",
    "        versions.append(idx)\n",
    "\n",
    "selected_version_list=[]\n",
    "for idx, i in enumerate(versions):\n",
    "    #print (idx, i)\n",
    "    #print (lines[i].strip().split(' ')[-1])   #strip():\\n과 같은 특수기호 날리기, split(''): 괄호안 기준 쪼개\n",
    "    if int(lines[i].strip().split(' ')[-1]) == version:  #위에서 선택한 version\n",
    "        if idx != len(versions)-1:   #중간이면 다음버전 한줄 위에 까지가 end이다.\n",
    "            end = versions[idx+1]\n",
    "        else:\n",
    "            end = len(lines)-1        #마지막 version이면 맨 밑줄이 end이다.\n",
    "        for j in range(i, end):       #i부터 end까지 list로 append\n",
    "            selected_version_list.append(lines[j].strip())    "
   ]
  },
  {
   "cell_type": "code",
   "execution_count": 84,
   "metadata": {},
   "outputs": [
    {
     "data": {
      "text/plain": [
       "['GPU_number = 100',\n",
       " 'GPU_id = 100',\n",
       " 'num_worker = 100',\n",
       " 'seed = 42',\n",
       " 'batch_size = 4',\n",
       " 'img_size = 512',\n",
       " 'epochs = 1000000',\n",
       " 'learning_rate = 1e-3',\n",
       " 'modality = EN',\n",
       " 'dimiension = 2, 3',\n",
       " 'is_time_series = True, False',\n",
       " 'checkpoint_dir =',\n",
       " 'logs_dir =',\n",
       " 'augmentation =',\n",
       " 'model = vgg',\n",
       " 'task_type = binary',\n",
       " 'optimizer =',\n",
       " 'scheduler =']"
      ]
     },
     "execution_count": 84,
     "metadata": {},
     "output_type": "execute_result"
    }
   ],
   "source": [
    "#list에서 '='표시가 있는 의미 있는 자료들을 dictionary하기 위해서 거름.\n",
    "selected_version_list_to_dictionary=[]\n",
    "for i in selected_version_list:\n",
    "    if '=' in i:\n",
    "        selected_version_list_to_dictionary.append(i)\n",
    "selected_version_list_to_dictionary"
   ]
  },
  {
   "cell_type": "code",
   "execution_count": 92,
   "metadata": {},
   "outputs": [],
   "source": [
    "#dictionary의 key list별로 나눔\n",
    "key = 'key'\n",
    "value = 'value'\n",
    "list_name = 'list'\n",
    "def key_value_extractor_key(list_name):\n",
    "    key = list_name.replace(\" \",\"\").split('=')[0]   #replace:공백제거, split('=', 기준분류)\n",
    "    return key\n",
    "def key_value_extractor_value(list_name):\n",
    "    value = list_name.replace(\" \",\"\").split('=')[-1]\n",
    "    return value"
   ]
  },
  {
   "cell_type": "code",
   "execution_count": null,
   "metadata": {},
   "outputs": [],
   "source": []
  },
  {
   "cell_type": "code",
   "execution_count": 97,
   "metadata": {},
   "outputs": [
    {
     "data": {
      "text/plain": [
       "{'GPU_number': '100',\n",
       " 'GPU_id': '100',\n",
       " 'num_worker': '100',\n",
       " 'seed': '42',\n",
       " 'batch_size': '4',\n",
       " 'img_size': '512',\n",
       " 'epochs': '1000000',\n",
       " 'learning_rate': '1e-3',\n",
       " 'modality': 'EN',\n",
       " 'dimiension': '2,3',\n",
       " 'is_time_series': 'True,False',\n",
       " 'checkpoint_dir': '',\n",
       " 'logs_dir': '',\n",
       " 'augmentation': '',\n",
       " 'model': 'vgg',\n",
       " 'task_type': 'binary',\n",
       " 'optimizer': '',\n",
       " 'scheduler': ''}"
      ]
     },
     "execution_count": 97,
     "metadata": {},
     "output_type": "execute_result"
    }
   ],
   "source": [
    "#최종적을zip을 이용하여 list들을 dictionary화\n",
    "keys=[]\n",
    "values=[]\n",
    "for i in selected_version_list_to_dictionary:\n",
    "    keys.append(key_value_extractor_key(i))\n",
    "    values.append(key_value_extractor_value(i))\n",
    "dictionary = dict(zip(keys, values))\n",
    "dictionary"
   ]
  },
  {
   "cell_type": "code",
   "execution_count": 106,
   "metadata": {},
   "outputs": [],
   "source": [
    "class version_dictionary:          #class만들어서 하나하나 넣자  # 날리고,\n",
    "    def __init__(self, selected_version_list_to_dictionary):\n",
    "        #self.GPU_number = dic['GPU_num']\n",
    "        keys=[]\n",
    "        values=[]\n",
    "        for i in selected_version_list_to_dictionary:\n",
    "            keys.append(self._key_value_extractor_key(i))\n",
    "            values.append(self._key_value_extractor_value(i))\n",
    "        dictionary = dict(zip(keys, values))\n",
    "        \n",
    "        self.ver = version\n",
    "        self.GPU_number = dictionary['GPU_number']\n",
    "        self.GPU_id = dictionary['GPU_id']\n",
    "        self.num_worker = dictionary['num_worker']\n",
    "        self.seed = dictionary['seed']\n",
    "        self.batch_size = dictionary['batch_size']\n",
    "        self.img_size = dictionary['img_size']\n",
    "        self.epochs = dictionary['epochs']\n",
    "        self.learning_rate = dictionary['learning_rate']\n",
    "        self.modality = dictionary['modality']\n",
    "        self.dimiension = dictionary['dimiension']\n",
    "        self.is_time_series = dictionary['is_time_series']\n",
    "        self.checkpoint_dir = dictionary['checkpoint_dir']\n",
    "        self.logs_dir = dictionary['logs_dir']\n",
    "        self.augmentation = dictionary['augmentation']\n",
    "        self.model = dictionary['model']\n",
    "        self.task_type = dictionary['task_type']\n",
    "        self.optimizer = dictionary['optimizer']\n",
    "        self.scheduler = dictionary['scheduler']\n",
    "        \n",
    "    def _key_value_extractor_key(self, list_name):\n",
    "        key = list_name.replace(\" \",\"\").split('=')[0]   #replace:공백제거, split('=', 기준분류)\n",
    "        return key\n",
    "    def _key_value_extractor_value(self, list_name):\n",
    "        value = list_name.replace(\" \",\"\").split('=')[-1]\n",
    "        return value\n",
    "        \n"
   ]
  },
  {
   "cell_type": "code",
   "execution_count": 107,
   "metadata": {},
   "outputs": [],
   "source": [
    "tmp=version_dictionary(selected_version_list_to_dictionary)"
   ]
  },
  {
   "cell_type": "code",
   "execution_count": 108,
   "metadata": {},
   "outputs": [
    {
     "data": {
      "text/plain": [
       "'4'"
      ]
     },
     "execution_count": 108,
     "metadata": {},
     "output_type": "execute_result"
    }
   ],
   "source": [
    "tmp.batch_size"
   ]
  },
  {
   "cell_type": "code",
   "execution_count": null,
   "metadata": {},
   "outputs": [],
   "source": []
  }
 ],
 "metadata": {
  "kernelspec": {
   "display_name": "Python 3",
   "language": "python",
   "name": "python3"
  },
  "language_info": {
   "codemirror_mode": {
    "name": "ipython",
    "version": 3
   },
   "file_extension": ".py",
   "mimetype": "text/x-python",
   "name": "python",
   "nbconvert_exporter": "python",
   "pygments_lexer": "ipython3",
   "version": "3.8.8"
  }
 },
 "nbformat": 4,
 "nbformat_minor": 4
}
